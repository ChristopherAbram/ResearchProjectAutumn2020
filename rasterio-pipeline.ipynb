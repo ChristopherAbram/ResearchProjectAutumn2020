{
 "cells": [
  {
   "cell_type": "code",
   "execution_count": 1,
   "metadata": {},
   "outputs": [],
   "source": [
    "import rasterio\n",
    "import numpy as np\n",
    "from affine import Affine\n",
    "from rasterio.windows import from_bounds\n",
    "import os\n"
   ]
  },
  {
   "cell_type": "code",
   "execution_count": 2,
   "metadata": {
    "pycharm": {
     "name": "#%%\n"
    }
   },
   "outputs": [],
   "source": [
    "fb_path = 'data/humdata/population_nga_2018-10-01.tif'\n",
    "grid_path = 'data/grid3/NGA - population - v1.2 - mastergrid.tif'\n",
    "\n",
    "fb_raster = rasterio.open(fb_path)\n",
    "grid_raster = rasterio.open(grid_path)"
   ]
  },
  {
   "cell_type": "code",
   "execution_count": 3,
   "metadata": {
    "pycharm": {
     "name": "#%%\n"
    }
   },
   "outputs": [],
   "source": [
    "def make_bounds(lat, lon, spread):\n",
    "    return {\n",
    "        'left': lon - spread,\n",
    "        'bottom': lat - spread,\n",
    "        'right': lon + spread,\n",
    "        'top': lat + spread\n",
    "    }\n"
   ]
  },
  {
   "cell_type": "code",
   "execution_count": 15,
   "metadata": {
    "pycharm": {
     "name": "#%%\n"
    }
   },
   "outputs": [],
   "source": [
    "# make box around lagos\n",
    "lat, lon = (6.541456, 3.312719)\n",
    "spread = 0.1\n",
    "bounds = make_bounds(lat, lon, spread)\n",
    "# get anchor pixel in upper left corner of the box to determine translation for new raster\n",
    "upper_left_fb_lagos = (bounds['left'], bounds['top'])\n",
    "upper_left_fb_whole = fb_raster.transform * (0,0)\n",
    "offset = (upper_left_fb_lagos[0]-upper_left_fb_whole[0], upper_left_fb_whole[1] - upper_left_fb_lagos[1])\n",
    "# get window\n",
    "left, bottom, right, top = make_bounds(lat, lon, spread).values()\n",
    "window = from_bounds(left, bottom, right, top, fb_raster.transform, precision=15)\n",
    "lagos_fb_data = fb_raster.read(1, window=window)\n",
    "c, f = fb_raster.xy(window.row_off, window.col_off)\n",
    "#lagos_grid_data = grid_raster.read(1, window=from_bounds(left, bottom, right, top, grid_raster.transform))"
   ]
  },
  {
   "cell_type": "code",
   "execution_count": 16,
   "metadata": {
    "pycharm": {
     "name": "#%%\n"
    }
   },
   "outputs": [],
   "source": [
    "transform = Affine(fb_raster.transform.a, fb_raster.transform.b, c, fb_raster.transform.d, fb_raster.transform.e, f)\n",
    "with rasterio.open(\\\n",
    "    'data/out/fb-lagos-0.5.tif', \\\n",
    "    'w', \\\n",
    "    driver='GTiff', \\\n",
    "    width=lagos_fb_data.shape[1], \\\n",
    "    height=lagos_fb_data.shape[0], \\\n",
    "    count=1, \\\n",
    "    dtype=lagos_fb_data.dtype, \\\n",
    "    crs=fb_raster.crs, \\\n",
    "    transform=transform \\\n",
    "    ) as dst:\n",
    "    dst.write(lagos_fb_data, indexes=1)\n",
    "\n",
    "\n",
    "# get some pixels in lagos\n",
    "#px, py = fb_raster.index(upper_left[0], upper_left[1] op=round, precision=15)\n",
    "#fb_pixels = np.array([[x,y] for x in np.arange(px, px+10) for y in np.arange(py, py+10)])"
   ]
  },
  {
   "cell_type": "code",
   "execution_count": 17,
   "metadata": {
    "pycharm": {
     "name": "#%%\n"
    }
   },
   "outputs": [],
   "source": [
    "fb_lagos_raster = rasterio.open('data/out/fb-lagos-0.5.tif')"
   ]
  },
  {
   "cell_type": "code",
   "execution_count": 18,
   "outputs": [
    {
     "name": "stdout",
     "output_type": "stream",
     "text": [
      "(3.21285788888889, 6.6413171111111104)\n",
      "(3.212996777777779, 6.641178222222222)\n"
     ]
    }
   ],
   "source": [
    "# sanity check\n",
    "#print(fb_lagos_raster.transform * (0,0))\n",
    "#px, py = fb_raster.index(upper_left_fb_lagos[0], upper_left_fb_lagos[1], op=round, precision=15)\n",
    "#print(px,py)\n",
    "print(fb_raster.xy(window.row_off, window.col_off))\n",
    "print(fb_lagos_raster.xy(0,0))"
   ],
   "metadata": {
    "collapsed": false,
    "pycharm": {
     "name": "#%%\n"
    }
   }
  },
  {
   "cell_type": "code",
   "execution_count": null,
   "outputs": [],
   "source": [],
   "metadata": {
    "collapsed": false,
    "pycharm": {
     "name": "#%%\n"
    }
   }
  },
  {
   "cell_type": "code",
   "execution_count": 34,
   "metadata": {},
   "outputs": [
    {
     "data": {
      "text/plain": [
       "(2.6841273720370373, 13.89210453021605)"
      ]
     },
     "execution_count": 34,
     "metadata": {},
     "output_type": "execute_result"
    }
   ],
   "source": [
    "fb_pixels = np.arange(fb_lagos_raster.height * fb_lagos_raster.width).reshape(fb_lagos_raster.height, fb_lagos_raster.width)\n",
    "# for each pixel in fb, get coordinates\n",
    "fb_vxy = np.vectorize(fb_lagos_raster.xy)\n",
    "fb_xcoords, fb_ycoords = fb_vxy(fb_pixels[:,0], fb_pixels[:,1])"
   ]
  },
  {
   "cell_type": "code",
   "execution_count": null,
   "metadata": {},
   "outputs": [],
   "source": []
  },
  {
   "cell_type": "code",
   "execution_count": 13,
   "metadata": {
    "pycharm": {
     "name": "#%%\n"
    }
   },
   "outputs": [],
   "source": [
    "# for each pixel in fb, get coordinates\n",
    "fb_vxy = np.vectorize(fb_raster.xy)\n",
    "fb_xcoords, fb_ycoords = fb_vxy(fb_pixels[:,0], fb_pixels[:,1])"
   ]
  },
  {
   "cell_type": "code",
   "execution_count": 14,
   "metadata": {
    "pycharm": {
     "name": "#%%\n"
    }
   },
   "outputs": [],
   "source": [
    "# get corresponding pixels in grid3\n",
    "grid_vindex = np.vectorize(grid_raster.index)\n",
    "grid_pixels = np.vstack(grid_vindex(fb_xcoords, fb_ycoords, op=round, precision=15)).T\n",
    "\n",
    "\n",
    "grid_pixel_counts = np.unique(grid_pixels, return_counts=True, axis=0)\n",
    "\n",
    "# TODO\n",
    "grid_pixel_convolution = np.unique(grid_pixels[fb_data > 0], return_counts=True, axis=0)"
   ]
  },
  {
   "cell_type": "code",
   "execution_count": null,
   "metadata": {
    "pycharm": {
     "name": "#%%\n"
    }
   },
   "outputs": [],
   "source": [
    "fb_values = fb_raster.read(1, window=Window(px,py,200,200))[fb_pixels[:,0], fb_pixels[:,1]] > 0"
   ]
  }
 ],
 "metadata": {
  "kernelspec": {
   "display_name": "Python 3",
   "language": "python",
   "name": "python3"
  },
  "language_info": {
   "codemirror_mode": {
    "name": "ipython",
    "version": 3
   },
   "file_extension": ".py",
   "mimetype": "text/x-python",
   "name": "python",
   "nbconvert_exporter": "python",
   "pygments_lexer": "ipython3",
   "version": "3.7.6"
  }
 },
 "nbformat": 4,
 "nbformat_minor": 1
}