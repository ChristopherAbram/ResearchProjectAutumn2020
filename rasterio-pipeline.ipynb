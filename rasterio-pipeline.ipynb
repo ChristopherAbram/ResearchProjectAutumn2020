{
 "cells": [
  {
   "cell_type": "code",
   "execution_count": 1,
   "metadata": {},
   "outputs": [],
   "source": [
    "import rasterio\n",
    "import numpy as np\n",
    "from affine import Affine\n"
   ]
  },
  {
   "cell_type": "code",
   "execution_count": 2,
   "metadata": {
    "pycharm": {
     "name": "#%%\n"
    }
   },
   "outputs": [],
   "source": [
    "fb_path = 'data/humdata/population_nga_2018-10-01.tif'\n",
    "grid_path = 'data/grid3/NGA - population - v1.2 - mastergrid.tif'\n",
    "\n",
    "fb_raster = rasterio.open(fb_path)\n",
    "grid_raster = rasterio.open(grid_path)"
   ]
  },
  {
   "cell_type": "code",
   "execution_count": 3,
   "outputs": [],
   "source": [
    "# https://stackoverflow.com/questions/639695/how-to-convert-latitude-or-longitude-to-meters\n",
    "# https://en.wikipedia.org/wiki/Haversine_formula\n",
    "# earth radius from: https://nssdc.gsfc.nasa.gov/planetary/factsheet/earthfact.html\n",
    "\n",
    "def coord_distance_to_meter_distance(coord1, coord2, decimals=-1):\n",
    "    \"\"\"Use haversine formula to compute distance in meters between two points of coordinates.\"\"\"\n",
    "    lat1, lon1 = coord1\n",
    "    lat2, lon2 = coord2\n",
    "    R = 6371 # earth radius in km\n",
    "    dLat = lat2 * np.math.pi / 180 - lat1 * np.math.pi / 180\n",
    "    dLon = lon2 * np.math.pi / 180 - lon1 * np.math.pi / 180\n",
    "    a = np.math.sin(dLat/2) * np.math.sin(dLat/2) +\\\n",
    "    np.math.cos(lat1 * np.math.pi / 180) * np.math.cos(lat2 * np.math.pi / 180) *\\\n",
    "    np.math.sin(dLon/2) * np.math.sin(dLon/2)\n",
    "    c = 2 * np.math.atan2(np.math.sqrt(a), np.math.sqrt(1-a))\n",
    "    d = R * c\n",
    "    if decimals < 0:\n",
    "        return d * 1000 # meters\n",
    "    else:\n",
    "        return np.around(d * 1000, decimals)"
   ],
   "metadata": {
    "collapsed": false,
    "pycharm": {
     "name": "#%%\n"
    }
   }
  },
  {
   "cell_type": "code",
   "execution_count": 4,
   "outputs": [
    {
     "name": "stdout",
     "output_type": "stream",
     "text": [
      "fb_raster.transform:\n",
      "| 0.00, 0.00, 2.68|\n",
      "| 0.00,-0.00, 13.89|\n",
      "| 0.00, 0.00, 1.00|\n",
      "\n",
      "fb_raster.transform.c:\n",
      "2.682916666666667\n",
      "\n",
      "fb_raster.transform.f:\n",
      "13.889027777777779\n",
      "\n",
      "(1) fb_raster.transform * (0,0):\n",
      "\t(2.682916666666667, 13.889027777777779)\n",
      "\n",
      "(2) fb_raster.xy(0,0, offset=\"ul\"):\n",
      "\t(2.682916666666667, 13.889027777777779)\n",
      "\n",
      "(3) fb_raster.xy(0,0) (center of pixel by default):\n",
      "\t(2.6830555555555557, 13.88888888888889)\n",
      "\n",
      "dist(1,2) = 0.0 meters (rounded to 3 decimals)\n",
      "dist(1,3) = 21.829 meters (rounded to 3 decimals)\n"
     ]
    }
   ],
   "source": [
    "print(f'fb_raster.transform:\\n{fb_raster.transform}\\n')\n",
    "print(f'fb_raster.transform.c:\\n{fb_raster.transform.c}\\n')\n",
    "print(f'fb_raster.transform.f:\\n{fb_raster.transform.f}\\n')\n",
    "\n",
    "print(f'(1) fb_raster.transform * (0,0):\\n\\t{fb_raster.transform * (0,0)}\\n')\n",
    "print(f'(2) fb_raster.xy(0,0, offset=\"ul\"):\\n\\t{fb_raster.xy(0,0,offset=\"ul\")}\\n')\n",
    "print(f'(3) fb_raster.xy(0,0) (center of pixel by default):\\n\\t{fb_raster.xy(0,0)}\\n')\n",
    "\n",
    "print(f'dist(1,2) = {coord_distance_to_meter_distance(fb_raster.transform * (0,0), fb_raster.xy(0,0,offset=\"ul\"), decimals=3)} meters (rounded to 3 decimals)')\n",
    "print(f'dist(1,3) = {coord_distance_to_meter_distance(fb_raster.transform * (0,0), fb_raster.xy(0,0), decimals=3)} meters (rounded to 3 decimals)')\n",
    "\n",
    "# so need to get upper-left corner of pixel for transform!\n",
    "# apparently, tranform maps to the upper-left corner of the first pixel, meaning the one at (0,0)"
   ],
   "metadata": {
    "collapsed": false,
    "pycharm": {
     "name": "#%%\n"
    }
   }
  },
  {
   "cell_type": "code",
   "execution_count": 5,
   "metadata": {
    "pycharm": {
     "name": "#%%\n"
    }
   },
   "outputs": [],
   "source": [
    "def make_bounds(lat, lon, spread):\n",
    "    return {\n",
    "        'left': lon - spread,\n",
    "        'bottom': lat - spread,\n",
    "        'right': lon + spread,\n",
    "        'top': lat + spread\n",
    "    }"
   ]
  },
  {
   "cell_type": "code",
   "execution_count": 6,
   "outputs": [],
   "source": [
    "# https://rasterio.readthedocs.io/en/latest/api/rasterio.io.html?highlight=datasetreader.read#rasterio.io.DatasetReader.read\n",
    "# for windows derived from geo-cooordinates, DatasetReader.read does resampling, making it harder to\n",
    "# retrieve the exact spatial mapping, therefore use this method instead\n",
    "\n",
    "def get_window(raster, lat, lon, spread):\n",
    "    \"\"\"\n",
    "    For a box with center (lat,lon) and given spread, get pixel that contains the upper-left corner and\n",
    "    the pixel that contains the lower-right corner. With indices of those two pixels, define a window as\n",
    "    ((from_row, to_row),(from_column, to_column)).\n",
    "    Also return window_anchor_ul: the geo-coordinates of the upper-left corner of the first\n",
    "    (uppermost-leftmost) pixel of the window.\n",
    "\n",
    "    :param raster: rasterio.io.DatasetReader\n",
    "    :param lat: float\n",
    "    :param lon: float\n",
    "    :param spread: float\n",
    "    :return: ((int,int),(int,int)), (float,float)\n",
    "    \"\"\"\n",
    "    bounds = make_bounds(lat, lon, spread)\n",
    "    row_upper, col_left = raster.index(bounds['left'], bounds['top'], precision=15)\n",
    "    row_lower, col_right = raster.index(bounds['right'], bounds['bottom'], precision=15)\n",
    "    window = ((row_upper, row_lower), (col_left, col_right))\n",
    "    window_anchor_ul = raster.xy(row_upper, col_left, offset=\"ul\")\n",
    "    return window, window_anchor_ul\n"
   ],
   "metadata": {
    "collapsed": false,
    "pycharm": {
     "name": "#%%\n"
    }
   }
  },
  {
   "cell_type": "code",
   "execution_count": 7,
   "outputs": [],
   "source": [
    "lat, lon = (6.541456, 3.312719) # Lagos, Nigeria\n",
    "spread = 0.1\n",
    "\n",
    "fb_window, fb_anchor = get_window(fb_raster, lat, lon, spread)\n",
    "grid_window, grid_anchor = get_window(grid_raster, lat, lon, spread)"
   ],
   "metadata": {
    "collapsed": false,
    "pycharm": {
     "name": "#%%\n"
    }
   }
  },
  {
   "cell_type": "code",
   "execution_count": 8,
   "metadata": {
    "pycharm": {
     "name": "#%%\n"
    }
   },
   "outputs": [],
   "source": [
    "lagos_fb_data = fb_raster.read(1,window=fb_window)\n",
    "lagos_grid_data = grid_raster.read(1, window=grid_window)"
   ]
  },
  {
   "cell_type": "code",
   "execution_count": 12,
   "outputs": [],
   "source": [
    "transform = Affine(fb_raster.transform.a, fb_raster.transform.b, fb_anchor[0],\n",
    "                   fb_raster.transform.d, fb_raster.transform.e, fb_anchor[1])\n",
    "\n",
    "with rasterio.open(\\\n",
    "    'data/out/fb-lagos-0.5.tif', \\\n",
    "    'w', \\\n",
    "    driver='GTiff', \\\n",
    "    width=lagos_fb_data.shape[1], \\\n",
    "    height=lagos_fb_data.shape[0], \\\n",
    "    count=1, \\\n",
    "    dtype=lagos_fb_data.dtype, \\\n",
    "    crs=fb_raster.crs, \\\n",
    "    transform=transform \\\n",
    "    ) as dst:\n",
    "    dst.write(lagos_fb_data, indexes=1)\n"
   ],
   "metadata": {
    "collapsed": false,
    "pycharm": {
     "name": "#%%\n"
    }
   }
  },
  {
   "cell_type": "code",
   "execution_count": 13,
   "metadata": {
    "pycharm": {
     "name": "#%%\n"
    }
   },
   "outputs": [],
   "source": [
    "fb_lagos_raster = rasterio.open('data/out/fb-lagos-0.5.tif')"
   ]
  },
  {
   "cell_type": "code",
   "execution_count": 15,
   "outputs": [
    {
     "name": "stdout",
     "output_type": "stream",
     "text": [
      "fb_raster.xy(row_upper, col_left):\n",
      "\t(3.2155555555555555, 6.613611111111111)\n",
      "\n",
      "fb_lagos_raster.xy(0,0):\n",
      "\t(3.2155555555555555, 6.613611111111113)\n",
      "\n",
      "dist = 0.0 meters (rounded to 3 decimals)\n"
     ]
    }
   ],
   "source": [
    "# sanity check\n",
    "\n",
    "print(f'fb_raster.xy(row_upper, col_left):\\n\\t{fb_raster.xy(fb_window[0][0]+100, fb_window[1][0]+10)}\\n')\n",
    "print(f'fb_lagos_raster.xy(0,0):\\n\\t{fb_lagos_raster.xy(100,10)}\\n')\n",
    "print(f'dist = {coord_distance_to_meter_distance(fb_raster.xy(fb_window[0][0]+100, fb_window[1][0]+10), fb_lagos_raster.xy(100,10), decimals=3)} meters (rounded to 3 decimals)')"
   ],
   "metadata": {
    "collapsed": false,
    "pycharm": {
     "name": "#%%\n"
    }
   }
  },
  {
   "cell_type": "code",
   "execution_count": 15,
   "outputs": [],
   "source": [],
   "metadata": {
    "collapsed": false,
    "pycharm": {
     "name": "#%%\n"
    }
   }
  },
  {
   "cell_type": "code",
   "execution_count": 16,
   "metadata": {},
   "outputs": [],
   "source": [
    "# https://stackoverflow.com/questions/1208118/using-numpy-to-build-an-array-of-all-combinations-of-two-arrays\n",
    "fb_pixels = np.array(np.meshgrid(\n",
    "    np.arange(fb_window[0][0], fb_window[0][1]),\n",
    "    np.arange(fb_window[1][0], fb_window[1][1]))).T.reshape(-1,2)"
   ]
  },
  {
   "cell_type": "code",
   "execution_count": 17,
   "outputs": [],
   "source": [
    "def process_data(data):\n",
    "    data = np.nan_to_num(data) # replace nan with zero\n",
    "    data[data > 0] = 1\n",
    "    return data.astype(np.uint8)\n",
    "\n",
    "lagos_fb_data = process_data(lagos_fb_data)"
   ],
   "metadata": {
    "collapsed": false,
    "pycharm": {
     "name": "#%%\n"
    }
   }
  },
  {
   "cell_type": "code",
   "execution_count": 19,
   "outputs": [],
   "source": [
    "# for each pixel in fb, get coordinates\n",
    "fb_vxy = np.vectorize(fb_raster.xy) # gets center\n",
    "fb_xcoords, fb_ycoords = fb_vxy(fb_pixels[:,0], fb_pixels[:,1])"
   ],
   "metadata": {
    "collapsed": false,
    "pycharm": {
     "name": "#%%\n"
    }
   }
  },
  {
   "cell_type": "code",
   "execution_count": 20,
   "metadata": {},
   "outputs": [],
   "source": [
    "# get corresponding pixels in grid3\n",
    "grid_vindex = np.vectorize(grid_raster.index)\n",
    "grid_pixels = np.vstack(grid_vindex(fb_xcoords, fb_ycoords, op=round, precision=15)).T"
   ]
  },
  {
   "cell_type": "code",
   "execution_count": 21,
   "outputs": [],
   "source": [
    "grid_pixel_counts = np.unique(grid_pixels, return_counts=True, axis=0)"
   ],
   "metadata": {
    "collapsed": false,
    "pycharm": {
     "name": "#%%\n"
    }
   }
  },
  {
   "cell_type": "code",
   "execution_count": 22,
   "outputs": [],
   "source": [
    "# https://www.geeksforgeeks.org/differences-flatten-ravel-numpy/\n",
    "\n",
    "# TODO\n",
    "grid_pixel_unique, convolution = np.unique(grid_pixels[lagos_fb_data.ravel() > 0], return_counts=True, axis=0)"
   ],
   "metadata": {
    "collapsed": false,
    "pycharm": {
     "name": "#%%\n"
    }
   }
  },
  {
   "cell_type": "code",
   "execution_count": 23,
   "outputs": [],
   "source": [
    "threshold = 3\n",
    "threshold_mask = convolution >= threshold\n",
    "convolution[threshold_mask] = 1\n",
    "convolution[np.invert(threshold_mask)] = 0"
   ],
   "metadata": {
    "collapsed": false,
    "pycharm": {
     "name": "#%%\n"
    }
   }
  },
  {
   "cell_type": "code",
   "execution_count": null,
   "outputs": [],
   "source": [
    "# https://scikit-learn.org/stable/modules/generated/sklearn.metrics.confusion_matrix.html\n",
    "from sklearn.metrics import confusion_matrix\n",
    "confusion_matrix(, convolution)\n",
    "\n",
    "### NOTE fb data for all Nigeria has 1491937976 entries, which if stored as np.uint8, are ca. 1,5 GB\n",
    "#convolution.nbytes"
   ],
   "metadata": {
    "collapsed": false,
    "pycharm": {
     "name": "#%%\n"
    }
   }
  },
  {
   "cell_type": "code",
   "execution_count": 1,
   "outputs": [],
   "source": [
    "class ArrayIterator:\n",
    "\n",
    "    def __init__(self, raster, window_height, window_width):\n",
    "        self.raster = raster\n",
    "        self.window_height = window_height\n",
    "        self.window_width = window_width\n",
    "        self.current_window = ((0,window_height),(0,window_width))\n",
    "        self.reached_end = False\n",
    "\n",
    "    def go_to_next(self):\n",
    "        # if not yet reached end of row\n",
    "        if self.current_window[1][1]  < self.raster.width:\n",
    "            self.current_window = (\\\n",
    "                self.current_window[0],\\\n",
    "                (self.current_window[1][1], self.current_window[1][1] + self.window_width)\\\n",
    "            )\n",
    "        # if reached end of the row, but not end of table\n",
    "        elif self.current_window[0][1] < self.raster.height:\n",
    "            self.current_window = (\\\n",
    "                (self.current_window[0][1], self.current_window[0][1] + self.window_height),\\\n",
    "                (0, self.window_width)\\\n",
    "            )\n",
    "        # if reached end of table\n",
    "        else:\n",
    "            self.reached_end = True\n",
    "            #raise IndexError(\"Reached end of table; no next window.\")\n",
    "\n",
    "    def pop_window(self):\n",
    "        current_window = self.current_window\n",
    "        self.go_to_next()\n",
    "        return current_window\n",
    "\n",
    "    def has_reached_end(self):\n",
    "        return self.reached_end\n",
    "\n",
    "    def reset(self):\n",
    "        self.current_window = ((0,window_height),(0,window_width))\n",
    "        self.reached_end = False"
   ],
   "metadata": {
    "collapsed": false,
    "pycharm": {
     "name": "#%%\n"
    }
   }
  },
  {
   "cell_type": "code",
   "execution_count": 2,
   "outputs": [],
   "source": [
    "def prepare_data(data):\n",
    "    data = np.nan_to_num(data) # replace nan with zero\n",
    "    data[data > 0] = 1 # make binary\n",
    "    return data.astype(np.uint8)\n",
    "\n",
    "# https://stackoverflow.com/questions/1208118/using-numpy-to-build-an-array-of-all-combinations-of-two-arrays\n",
    "def get_pixels(window):\n",
    "    return np.array(np.meshgrid(\n",
    "        np.arange(window[0][0], window[0][1]),\n",
    "        np.arange(window[1][0], window[1][1]))).T.reshape(-1,2)"
   ],
   "metadata": {
    "collapsed": false,
    "pycharm": {
     "name": "#%%\n"
    }
   }
  },
  {
   "cell_type": "code",
   "execution_count": 3,
   "outputs": [],
   "source": [
    "import rasterio\n",
    "import numpy as np"
   ],
   "metadata": {
    "collapsed": false,
    "pycharm": {
     "name": "#%%\n"
    }
   }
  },
  {
   "cell_type": "code",
   "execution_count": 4,
   "outputs": [],
   "source": [
    "# define paths and open rasters\n",
    "fb_path = 'data/humdata/population_nga_2018-10-01.tif'\n",
    "grid_path = 'data/grid3/NGA - population - v1.2 - mastergrid.tif'\n",
    "\n",
    "fb_raster = rasterio.open(fb_path)\n",
    "grid_raster = rasterio.open(grid_path)"
   ],
   "metadata": {
    "collapsed": false,
    "pycharm": {
     "name": "#%%\n"
    }
   }
  },
  {
   "cell_type": "code",
   "execution_count": 5,
   "outputs": [],
   "source": [
    "# find appropriate window shape for fb raster\n",
    "# prime factorization of fb_raster.height=34558: 2 * 37 * 467\n",
    "# prime factorization of fb_raster.width=43172: 2 * 2 * 43 * 251\n",
    "# choose window shape: (467,251)"
   ],
   "metadata": {
    "collapsed": false,
    "pycharm": {
     "name": "#%%\n"
    }
   }
  },
  {
   "cell_type": "code",
   "execution_count": 6,
   "outputs": [],
   "source": [
    "# initialize zeros array of same shape as GRID raster\n",
    "\n",
    "result = np.zeros(grid_raster.shape, dtype=np.uint8)"
   ],
   "metadata": {
    "collapsed": false,
    "pycharm": {
     "name": "#%%\n"
    }
   }
  },
  {
   "cell_type": "code",
   "execution_count": 7,
   "outputs": [],
   "source": [
    "# initialize iterator\n",
    "window_iterator = ArrayIterator(fb_raster, 467, 251)"
   ],
   "metadata": {
    "collapsed": false,
    "pycharm": {
     "name": "#%%\n"
    }
   }
  },
  {
   "cell_type": "code",
   "execution_count": 8,
   "outputs": [],
   "source": [
    "while not window_iterator.has_reached_end():\n",
    "    window = window_iterator.pop_window()\n",
    "    assert (window[0][1]-window[0][0]) == 467\n",
    "    assert (window[1][1]-window[1][0]) == 251\n",
    "    # read data from FB raster using current window\n",
    "    data = fb_raster.read(1,window=window)\n",
    "    assert np.all(data.shape == (467,251))\n",
    "    # replace nan with 0 and >0 with 1\n",
    "    data = prepare_data(data)\n",
    "    # get all pixels contained in window\n",
    "    pixels = get_pixels(window)\n",
    "    # keep only those pixels for which data has a 1 entry\n",
    "    pixels = pixels[data.ravel() > 0]\n",
    "    # check if there are any pixels, if continue from next iteration\n",
    "    if pixels.size > 0:\n",
    "        # use FB raster to get coordinates for each pixel\n",
    "        fb_raster_vxy = np.vectorize(fb_raster.xy) # gets center\n",
    "        xcoords, ycoords = fb_raster_vxy(pixels[:,0], pixels[:,1])\n",
    "        # for each coordinate get corresponding pixel in the GRID raster\n",
    "        grid_raster_vindex = np.vectorize(grid_raster.index)\n",
    "        grid_pixels = np.vstack(grid_raster_vindex(xcoords, ycoords, op=round, precision=15)).T\n",
    "        # get unique counts for pixels in GRID raster\n",
    "        grid_pixels_unique, counts = np.unique(grid_pixels, return_counts=True, axis=0)\n",
    "        # update result\n",
    "        result[grid_pixels_unique[:,0], grid_pixels_unique[:,1]] += counts.astype(np.uint8)\n",
    "\n",
    "# took 17 mins to run"
   ],
   "metadata": {
    "collapsed": false,
    "pycharm": {
     "name": "#%%\n"
    }
   }
  },
  {
   "cell_type": "code",
   "execution_count": 10,
   "outputs": [],
   "source": [
    "result.tofile('nigeria-fb_to_grid_mapping.csv', ',')"
   ],
   "metadata": {
    "collapsed": false,
    "pycharm": {
     "name": "#%%\n"
    }
   }
  },
  {
   "cell_type": "code",
   "execution_count": null,
   "outputs": [],
   "source": [
    "myresult = np.genfromtxt('nigeria-fb_to_grid_mapping.csv', delimiter=',')"
   ],
   "metadata": {
    "collapsed": false,
    "pycharm": {
     "name": "#%%\n",
     "is_executing": true
    }
   }
  },
  {
   "cell_type": "code",
   "execution_count": 14,
   "metadata": {
    "pycharm": {
     "name": "#%%\n"
    }
   },
   "outputs": [],
   "source": []
  }
 ],
 "metadata": {
  "kernelspec": {
   "display_name": "Python 3",
   "language": "python",
   "name": "python3"
  },
  "language_info": {
   "codemirror_mode": {
    "name": "ipython",
    "version": 3
   },
   "file_extension": ".py",
   "mimetype": "text/x-python",
   "name": "python",
   "nbconvert_exporter": "python",
   "pygments_lexer": "ipython3",
   "version": "3.7.6"
  }
 },
 "nbformat": 4,
 "nbformat_minor": 1
}