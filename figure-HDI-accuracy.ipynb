{
 "cells": [
  {
   "cell_type": "code",
   "execution_count": 9,
   "metadata": {},
   "outputs": [],
   "source": [
    "import numpy as np\n",
    "import pandas as pd\n",
    "import rasterio\n",
    "import rasterio.mask\n",
    "import fiona\n",
    "from sklearn.metrics import balanced_accuracy_score\n",
    "from sklearn.metrics import f1_score\n",
    "from sklearn.metrics import precision_score\n",
    "from sklearn.metrics import recall_score\n",
    "import time"
   ]
  },
  {
   "cell_type": "markdown",
   "metadata": {},
   "source": [
    "### Get dataframe for HDI"
   ]
  },
  {
   "cell_type": "code",
   "execution_count": 10,
   "metadata": {},
   "outputs": [],
   "source": [
    "hdi_path = 'data/shdi/SHDI Complete 4.0 (1).csv'\n",
    "df = pd.read_csv(hdi_path, usecols=['iso_code', 'year', 'level', 'GDLCODE', 'shdi'], low_memory=False)\n",
    "# get HDI for Nigeria at subnational level for year 2018\n",
    "df = df.loc[\n",
    "        (df['iso_code'] == 'NGA') & \n",
    "        (df['year'] == 2018) & \n",
    "        (df['level'] == 'Subnat')]\n",
    "df.drop(columns=['iso_code', 'year', 'level'], inplace=True)\n",
    "df['shdi'] = df['shdi'].astype(float)\n",
    "df.set_index('GDLCODE', inplace=True)\n",
    "df_hdi = df"
   ]
  },
  {
   "cell_type": "markdown",
   "metadata": {},
   "source": [
    "### Get level 1 admin units (federal states) shapefile"
   ]
  },
  {
   "cell_type": "code",
   "execution_count": 11,
   "metadata": {},
   "outputs": [],
   "source": [
    "shapefile_path = 'data/shapefiles/GDL Shapefiles V4.shp'\n",
    "shapes_NGA = {}\n",
    "\n",
    "with fiona.open(shapefile_path) as shapefile:\n",
    "    for feature in shapefile:\n",
    "        if feature['properties']['country'] == 'Nigeria':\n",
    "            shapes_NGA[feature['properties']['GDLcode']] = feature['geometry']"
   ]
  },
  {
   "cell_type": "markdown",
   "metadata": {},
   "source": [
    "### Set threshold and compute balanced accuracy for each federal state\n",
    "* https://rasterio.readthedocs.io/en/latest/topics/masking-by-shapefile.html\n",
    "* https://scikit-learn.org/stable/modules/generated/sklearn.metrics.confusion_matrix.html"
   ]
  },
  {
   "cell_type": "code",
   "execution_count": 12,
   "metadata": {},
   "outputs": [],
   "source": [
    "threshold = 3"
   ]
  },
  {
   "cell_type": "code",
   "execution_count": 3,
   "metadata": {},
   "outputs": [
    {
     "output_type": "error",
     "ename": "NameError",
     "evalue": "name 'shapes_NGA' is not defined",
     "traceback": [
      "\u001b[0;31m---------------------------------------------------------------------------\u001b[0m",
      "\u001b[0;31mNameError\u001b[0m                                 Traceback (most recent call last)",
      "\u001b[0;32m<ipython-input-3-1c7c3469f10f>\u001b[0m in \u001b[0;36m<module>\u001b[0;34m\u001b[0m\n\u001b[1;32m      5\u001b[0m \u001b[0;34m\u001b[0m\u001b[0m\n\u001b[1;32m      6\u001b[0m \u001b[0mstart_time\u001b[0m \u001b[0;34m=\u001b[0m \u001b[0mtime\u001b[0m\u001b[0;34m.\u001b[0m\u001b[0mtime\u001b[0m\u001b[0;34m(\u001b[0m\u001b[0;34m)\u001b[0m\u001b[0;34m\u001b[0m\u001b[0;34m\u001b[0m\u001b[0m\n\u001b[0;32m----> 7\u001b[0;31m \u001b[0;32mfor\u001b[0m \u001b[0mregion\u001b[0m\u001b[0;34m,\u001b[0m \u001b[0mshape\u001b[0m \u001b[0;32min\u001b[0m \u001b[0mshapes_NGA\u001b[0m\u001b[0;34m.\u001b[0m\u001b[0mitems\u001b[0m\u001b[0;34m(\u001b[0m\u001b[0;34m)\u001b[0m\u001b[0;34m:\u001b[0m\u001b[0;34m\u001b[0m\u001b[0;34m\u001b[0m\u001b[0m\n\u001b[0m\u001b[1;32m      8\u001b[0m \u001b[0;34m\u001b[0m\u001b[0m\n\u001b[1;32m      9\u001b[0m     \u001b[0;31m# get truth\u001b[0m\u001b[0;34m\u001b[0m\u001b[0;34m\u001b[0m\u001b[0;34m\u001b[0m\u001b[0m\n",
      "\u001b[0;31mNameError\u001b[0m: name 'shapes_NGA' is not defined"
     ]
    }
   ],
   "source": [
    "bal_accuracy = {}\n",
    "f1 = {}\n",
    "precision = {}\n",
    "recall = {}\n",
    "\n",
    "start_time = time.time()\n",
    "for region, shape in shapes_NGA.items():\n",
    "    \n",
    "    # get truth\n",
    "    with rasterio.open('data/grid3/NGA - population - v1.2 - mastergrid.tif') as dataset:\n",
    "        truth = rasterio.mask.mask(dataset, [shape], all_touched=False, nodata=255)[0]\n",
    "        truth = truth.flatten()\n",
    "        truth = truth[truth != 255]\n",
    "    \n",
    "    # get prediction\n",
    "    with rasterio.open('data/metrics/pipeline-counts.tif') as dataset:\n",
    "        counts = rasterio.mask.mask(dataset, [shape], all_touched=False, nodata=255)[0]\n",
    "        counts = counts.flatten()\n",
    "        counts = counts[counts != 255]\n",
    "        prediction = np.zeros(counts.size, dtype=np.uint8)\n",
    "        prediction[counts > threshold] = 1\n",
    "        \n",
    "    bal_accuracy[region] = balanced_accuracy_score(truth, prediction)\n",
    "    f1[region] = f1_score(truth, prediction)\n",
    "    precision[region] = precision_score(truth, prediction)\n",
    "    recall[region] = recall_score(truth, prediction)\n",
    "    \n",
    "print(f'taken: {time.time()-start_time} seconds')"
   ]
  },
  {
   "cell_type": "markdown",
   "metadata": {},
   "source": [
    "### Make dataframe for balanced accuracy"
   ]
  },
  {
   "cell_type": "code",
   "execution_count": 103,
   "metadata": {},
   "outputs": [],
   "source": [
    "df_score = pd.DataFrame(index=balanced_accuracy.keys(), data=[bal_accuracy.values(), f1.values(), precision.valuees(), recall.values()], columns=['balanced_accuracy', 'f1_score', 'precision', 'recall'])\n",
    "df_score.index.rename('GDLCODE', inplace=True)"
   ]
  },
  {
   "cell_type": "markdown",
   "metadata": {},
   "source": [
    "### Join HDI and balanced accuracy dataframes on region codes"
   ]
  },
  {
   "cell_type": "code",
   "execution_count": 104,
   "metadata": {},
   "outputs": [
    {
     "data": {
      "text/html": [
       "<div>\n",
       "<style scoped>\n",
       "    .dataframe tbody tr th:only-of-type {\n",
       "        vertical-align: middle;\n",
       "    }\n",
       "\n",
       "    .dataframe tbody tr th {\n",
       "        vertical-align: top;\n",
       "    }\n",
       "\n",
       "    .dataframe thead th {\n",
       "        text-align: right;\n",
       "    }\n",
       "</style>\n",
       "<table border=\"1\" class=\"dataframe\">\n",
       "  <thead>\n",
       "    <tr style=\"text-align: right;\">\n",
       "      <th></th>\n",
       "      <th>shdi</th>\n",
       "      <th>balanced_accuracy</th>\n",
       "    </tr>\n",
       "    <tr>\n",
       "      <th>GDLCODE</th>\n",
       "      <th></th>\n",
       "      <th></th>\n",
       "    </tr>\n",
       "  </thead>\n",
       "  <tbody>\n",
       "    <tr>\n",
       "      <th>NGAr101</th>\n",
       "      <td>0.604</td>\n",
       "      <td>0.590610</td>\n",
       "    </tr>\n",
       "    <tr>\n",
       "      <th>NGAr102</th>\n",
       "      <td>0.656</td>\n",
       "      <td>0.608677</td>\n",
       "    </tr>\n",
       "    <tr>\n",
       "      <th>NGAr103</th>\n",
       "      <td>0.426</td>\n",
       "      <td>0.550705</td>\n",
       "    </tr>\n",
       "    <tr>\n",
       "      <th>NGAr104</th>\n",
       "      <td>0.622</td>\n",
       "      <td>0.684273</td>\n",
       "    </tr>\n",
       "    <tr>\n",
       "      <th>NGAr105</th>\n",
       "      <td>0.598</td>\n",
       "      <td>0.528291</td>\n",
       "    </tr>\n",
       "  </tbody>\n",
       "</table>\n",
       "</div>"
      ],
      "text/plain": [
       "          shdi  balanced_accuracy\n",
       "GDLCODE                          \n",
       "NGAr101  0.604           0.590610\n",
       "NGAr102  0.656           0.608677\n",
       "NGAr103  0.426           0.550705\n",
       "NGAr104  0.622           0.684273\n",
       "NGAr105  0.598           0.528291"
      ]
     },
     "execution_count": 104,
     "metadata": {},
     "output_type": "execute_result"
    }
   ],
   "source": [
    "df = df_hdi.join(df_score)\n",
    "df.head()"
   ]
  },
  {
   "cell_type": "markdown",
   "metadata": {},
   "source": [
    "### Plot HDI vs. balanced accuracy"
   ]
  },
  {
   "cell_type": "code",
   "execution_count": 105,
   "metadata": {},
   "outputs": [
    {
     "data": {
      "image/png": "[encoded data removed]",
      "text/plain": [
       "<Figure size 432x288 with 1 Axes>"
      ]
     },
     "metadata": {
      "needs_background": "light"
     },
     "output_type": "display_data"
    }
   ],
   "source": [
    "import matplotlib.pyplot as plt\n",
    "\n",
    "plt.plot(np.unique(df.shdi), np.poly1d(np.polyfit(df.shdi, df.balanced_accuracy, 1))(np.unique(df.shdi)), c='orange', label='linear fit')\n",
    "plt.scatter(df.shdi, df.balanced_accuracy, marker='+', label='data')\n",
    "plt.ylabel('balanced accuracy')\n",
    "plt.xlabel('HDI')\n",
    "plt.title('Level 1 admin units of Nigeria')\n",
    "plt.legend()\n",
    "plt.show()"
   ]
  }
 ],
 "metadata": {
  "kernelspec": {
   "display_name": "Python 3",
   "language": "python",
   "name": "python3"
  },
  "language_info": {
   "codemirror_mode": {
    "name": "ipython",
    "version": 3
   },
   "file_extension": ".py",
   "mimetype": "text/x-python",
   "name": "python",
   "nbconvert_exporter": "python",
   "pygments_lexer": "ipython3",
   "version": "3.7.6-final"
  }
 },
 "nbformat": 4,
 "nbformat_minor": 1
}