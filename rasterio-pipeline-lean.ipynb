{
 "cells": [
  {
   "cell_type": "markdown",
   "metadata": {},
   "source": [
    "# Define some utility functions\n",
    "### Provide consecutive windows by which a raster can be iterated over."
   ]
  },
  {
   "cell_type": "code",
   "execution_count": 31,
   "metadata": {
    "pycharm": {
     "name": "#%%\n"
    }
   },
   "outputs": [],
   "source": [
    "class ArrayIterator:\n",
    "\n",
    "    def __init__(self, raster, window_height, window_width):\n",
    "        self.raster = raster\n",
    "        self.window_height = window_height\n",
    "        self.window_width = window_width\n",
    "        self.current_window = ((0,window_height),(0,window_width))\n",
    "        self.reached_end = False\n",
    "\n",
    "    def go_to_next(self):\n",
    "        # if not yet reached end of row\n",
    "        if self.current_window[1][1]  < self.raster.width:\n",
    "            self.current_window = (\\\n",
    "                self.current_window[0],\\\n",
    "                (self.current_window[1][1], self.current_window[1][1] + self.window_width)\\\n",
    "            )\n",
    "        # if reached end of the row, but not end of table\n",
    "        elif self.current_window[0][1] < self.raster.height:\n",
    "            self.current_window = (\\\n",
    "                (self.current_window[0][1], self.current_window[0][1] + self.window_height),\\\n",
    "                (0, self.window_width)\\\n",
    "            )\n",
    "        # if reached end of table\n",
    "        else:\n",
    "            self.reached_end = True\n",
    "            #raise IndexError(\"Reached end of table; no next window.\")\n",
    "\n",
    "    def pop_window(self):\n",
    "        current_window = self.current_window\n",
    "        self.go_to_next()\n",
    "        return current_window\n",
    "\n",
    "    def has_reached_end(self):\n",
    "        return self.reached_end\n",
    "\n",
    "    def reset(self):\n",
    "        self.current_window = ((0,window_height),(0,window_width))\n",
    "        self.reached_end = False"
   ]
  },
  {
   "cell_type": "markdown",
   "metadata": {},
   "source": [
    "#### Demonstrate ArrayIterator on an example"
   ]
  },
  {
   "cell_type": "code",
   "execution_count": 32,
   "metadata": {},
   "outputs": [],
   "source": [
    "def print_window(window):\n",
    "    print(f'rows:\\t\\t{window[0][0]} - {window[0][1]}')\n",
    "    print(f'columns:\\t{window[1][0]} - {window[1][1]}\\n')"
   ]
  },
  {
   "cell_type": "code",
   "execution_count": 34,
   "metadata": {
    "pycharm": {
     "name": "#%%\n"
    }
   },
   "outputs": [
    {
     "name": "stdout",
     "output_type": "stream",
     "text": [
      "[[0 5]\n",
      " [0 5]]\n",
      "\n",
      "[[ 0  5]\n",
      " [ 5 10]]\n",
      "\n",
      "[[ 5 10]\n",
      " [ 0  5]]\n",
      "\n",
      "[[ 5 10]\n",
      " [ 5 10]]\n",
      "\n"
     ]
    }
   ],
   "source": [
    "class fake_raster:\n",
    "    \n",
    "    def __init__(self, array):\n",
    "        self.height, self.width = array.shape\n",
    "        \n",
    "foo = np.arange(100).reshape((10,10))\n",
    "\n",
    "window_iterator = ArrayIterator(fake_raster(foo), 5, 5)\n",
    "\n",
    "while not window_iterator.has_reached_end():\n",
    "    #print_window(window_iterator.pop_window())\n",
    "    print(np.array(window_iterator.pop_window()))\n",
    "    print()\n",
    "        "
   ]
  },
  {
   "cell_type": "markdown",
   "metadata": {
    "pycharm": {
     "name": "#%% md\n"
    }
   },
   "source": [
    "### Prepare data: replace nan's with zeros and make binary"
   ]
  },
  {
   "cell_type": "code",
   "execution_count": 3,
   "metadata": {
    "pycharm": {
     "name": "#%%\n"
    }
   },
   "outputs": [],
   "source": [
    "def prepare_data(data):\n",
    "    data = np.nan_to_num(data) # replace nan with zero\n",
    "    data[data > 0] = 1 # make binary\n",
    "    return data.astype(np.uint8)"
   ]
  },
  {
   "cell_type": "markdown",
   "metadata": {
    "pycharm": {
     "name": "#%% md\n"
    }
   },
   "source": [
    "### For a window=((row_upper, row_lower), (col_left, col_right)), get all pixels contained in window"
   ]
  },
  {
   "cell_type": "code",
   "execution_count": 2,
   "metadata": {
    "pycharm": {
     "name": "#%%\n"
    }
   },
   "outputs": [],
   "source": [
    "# https://stackoverflow.com/questions/1208118/using-numpy-to-build-an-array-of-all-combinations-of-two-arrays\n",
    "def get_pixels(window):\n",
    "    return np.array(np.meshgrid(\n",
    "        np.arange(window[0][0], window[0][1]),\n",
    "        np.arange(window[1][0], window[1][1]))).T.reshape(-1,2)"
   ]
  },
  {
   "cell_type": "markdown",
   "metadata": {
    "pycharm": {
     "name": "#%% md\n"
    }
   },
   "source": [
    "# Pipeline\n",
    "* prepare data\n",
    "* initialize empty GRID_counter that is same as GRID_raster, but all zeros\n",
    "* for each pixel FB_pixel in FB_raster:\n",
    "    * find its geo-location\n",
    "    * find the pixel GRID_pixel in GRID dataset that *contains* that geo-location\n",
    "    * if FB_pixel == 1, increment GRID_counter[GRID_pixel]\n",
    "* return GRID_counter\n",
    "\n",
    "But do it vectorized by window of FB_raster."
   ]
  },
  {
   "cell_type": "code",
   "execution_count": 4,
   "metadata": {
    "pycharm": {
     "name": "#%%\n"
    }
   },
   "outputs": [],
   "source": [
    "import rasterio\n",
    "import numpy as np"
   ]
  },
  {
   "cell_type": "code",
   "execution_count": 35,
   "metadata": {
    "pycharm": {
     "name": "#%%\n"
    }
   },
   "outputs": [],
   "source": [
    "# define paths and open rasters\n",
    "fb_path = 'data/humdata/population_nga_2018-10-01.tif'\n",
    "grid_path = 'data/grid3/NGA - population - v1.2 - mastergrid.tif'\n",
    "\n",
    "fb_raster = rasterio.open(fb_path)\n",
    "grid_raster = rasterio.open(grid_path)"
   ]
  },
  {
   "cell_type": "code",
   "execution_count": 36,
   "metadata": {},
   "outputs": [
    {
     "data": {
      "text/plain": [
       "(11546, 14413)"
      ]
     },
     "execution_count": 36,
     "metadata": {},
     "output_type": "execute_result"
    }
   ],
   "source": [
    "grid_raster.shape"
   ]
  },
  {
   "cell_type": "markdown",
   "metadata": {
    "pycharm": {
     "name": "#%%\n"
    }
   },
   "source": [
    "Find appropriate window shape for FB raster:\n",
    "* prime factorization of fb_raster.height = 34558: 2 * 37 * 467\n",
    "* prime factorization of fb_raster.width = 43172: 2 * 2 * 43 * 251\n",
    "* choose window shape: (467,251)\n",
    "* then window size: 467 * 251 = 117217\n",
    "\n",
    "About memory:\n",
    "* fb_raster.read(1) has size ca. 11 GB, therefore we don't want to handle it in-memory\n",
    "* grid_raster.shape = (11546, 14413)\n",
    "* therefore np.zeros(grid_raster.shape, **dtype=np.uint8**) has size 0.154984 GB, so we can handle it in-memory"
   ]
  },
  {
   "cell_type": "code",
   "execution_count": 6,
   "metadata": {
    "pycharm": {
     "name": "#%%\n"
    }
   },
   "outputs": [],
   "source": [
    "# initialize zeros array of same shape as GRID raster\n",
    "result = np.zeros(grid_raster.shape, dtype=np.uint8)"
   ]
  },
  {
   "cell_type": "code",
   "execution_count": null,
   "outputs": [],
   "source": [
    "# initialize iterator\n",
    "window_iterator = ArrayIterator(fb_raster, 467, 251)"
   ],
   "metadata": {
    "collapsed": false,
    "pycharm": {
     "name": "#%%\n"
    }
   }
  },
  {
   "cell_type": "markdown",
   "source": [
    "#### rasterio + numpy go brrr"
   ],
   "metadata": {
    "collapsed": false
   }
  },
  {
   "cell_type": "code",
   "execution_count": null,
   "outputs": [],
   "source": [
    "while not window_iterator.has_reached_end():\n",
    "    \n",
    "    window = window_iterator.pop_window()\n",
    "    assert (window[0][1]-window[0][0]) == 467\n",
    "    assert (window[1][1]-window[1][0]) == 251\n",
    "    \n",
    "    # read data from FB raster using current window\n",
    "    data = fb_raster.read(1,window=window)\n",
    "    assert np.all(data.shape == (467,251))\n",
    "    \n",
    "    # replace nan with 0 and >0 with 1\n",
    "    data = prepare_data(data)\n",
    "    \n",
    "    # get all pixels contained in window\n",
    "    pixels = get_pixels(window)\n",
    "    \n",
    "    # keep only those pixels for which data has a 1 entry\n",
    "    pixels = pixels[data.ravel() > 0]\n",
    "    \n",
    "    # check if there are any pixels, if continue from next iteration\n",
    "    if pixels.size > 0:\n",
    "        \n",
    "        # use FB raster to get coordinates for each pixel\n",
    "        fb_raster_vxy = np.vectorize(fb_raster.xy) # gets center\n",
    "        xcoords, ycoords = fb_raster_vxy(pixels[:,0], pixels[:,1])\n",
    "        \n",
    "        # for each coordinate get corresponding pixel in the GRID raster\n",
    "        grid_raster_vindex = np.vectorize(grid_raster.index)\n",
    "        grid_pixels = np.vstack(grid_raster_vindex(xcoords, ycoords, op=round, precision=15)).T\n",
    "        \n",
    "        # get unique counts for pixels in GRID raster\n",
    "        grid_pixels_unique, counts = np.unique(grid_pixels, return_counts=True, axis=0)\n",
    "        \n",
    "        # update result\n",
    "        result[grid_pixels_unique[:,0], grid_pixels_unique[:,1]] += counts.astype(np.uint8)\n",
    "\n",
    "# took 17 mins to run"
   ],
   "metadata": {
    "collapsed": false,
    "pycharm": {
     "name": "#%%\n"
    }
   }
  },
  {
   "cell_type": "code",
   "execution_count": null,
   "outputs": [],
   "source": [
    "# write to csv file\n",
    "#result.tofile('nigeria-fb_to_grid_mapping.csv', ',')"
   ],
   "metadata": {
    "collapsed": false,
    "pycharm": {
     "name": "#%%\n"
    }
   }
  },
  {
   "cell_type": "code",
   "execution_count": null,
   "outputs": [],
   "source": [
    "# read from csv file\n",
    "#myresult = np.genfromtxt('nigeria-fb_to_grid_mapping.csv', delimiter=',')"
   ],
   "metadata": {
    "collapsed": false,
    "pycharm": {
     "name": "#%%\n"
    }
   }
  },
  {
   "cell_type": "code",
   "execution_count": 7,
   "metadata": {
    "pycharm": {
     "name": "#%%\n"
    }
   },
   "outputs": [],
   "source": []
  },
  {
   "cell_type": "markdown",
   "metadata": {},
   "source": [
    "#### rasterio + numpy go brrr"
   ]
  },
  {
   "cell_type": "code",
   "execution_count": 8,
   "metadata": {
    "pycharm": {
     "name": "#%%\n"
    }
   },
   "outputs": [],
   "source": [
    "while not window_iterator.has_reached_end():\n",
    "    \n",
    "    window = window_iterator.pop_window()\n",
    "    assert (window[0][1]-window[0][0]) == 467\n",
    "    assert (window[1][1]-window[1][0]) == 251\n",
    "    \n",
    "    # read data from FB raster using current window\n",
    "    data = fb_raster.read(1,window=window)\n",
    "    assert np.all(data.shape == (467,251))\n",
    "    \n",
    "    # replace nan with 0 and >0 with 1\n",
    "    data = prepare_data(data)\n",
    "    \n",
    "    # get all pixels contained in window\n",
    "    pixels = get_pixels(window)\n",
    "    \n",
    "    # keep only those pixels for which data has a 1 entry\n",
    "    pixels = pixels[data.ravel() > 0]\n",
    "    \n",
    "    # check if there are any pixels, if continue from next iteration\n",
    "    if pixels.size > 0:\n",
    "        \n",
    "        # use FB raster to get coordinates for each pixel\n",
    "        fb_raster_vxy = np.vectorize(fb_raster.xy) # gets center\n",
    "        xcoords, ycoords = fb_raster_vxy(pixels[:,0], pixels[:,1])\n",
    "        \n",
    "        # for each coordinate get corresponding pixel in the GRID raster\n",
    "        grid_raster_vindex = np.vectorize(grid_raster.index)\n",
    "        grid_pixels = np.vstack(grid_raster_vindex(xcoords, ycoords, op=round, precision=15)).T\n",
    "        \n",
    "        # get unique counts for pixels in GRID raster\n",
    "        grid_pixels_unique, counts = np.unique(grid_pixels, return_counts=True, axis=0)\n",
    "        \n",
    "        # update result\n",
    "        result[grid_pixels_unique[:,0], grid_pixels_unique[:,1]] += counts.astype(np.uint8)\n",
    "\n",
    "# took 17 mins to run"
   ]
  },
  {
   "cell_type": "code",
   "execution_count": 10,
   "metadata": {
    "pycharm": {
     "name": "#%%\n"
    }
   },
   "outputs": [],
   "source": [
    "# write to csv file\n",
    "#result.tofile('nigeria-fb_to_grid_mapping.csv', ',')"
   ]
  },
  {
   "cell_type": "code",
   "execution_count": null,
   "metadata": {
    "pycharm": {
     "is_executing": true,
     "name": "#%%\n"
    }
   },
   "outputs": [],
   "source": [
    "# read from csv file\n",
    "#myresult = np.genfromtxt('nigeria-fb_to_grid_mapping.csv', delimiter=',')"
   ]
  },
  {
   "cell_type": "markdown",
   "metadata": {
    "pycharm": {
     "name": "#%%\n"
    }
   },
   "source": []
  }
 ],
 "metadata": {
  "kernelspec": {
   "display_name": "Python 3",
   "language": "python",
   "name": "python3"
  },
  "language_info": {
   "codemirror_mode": {
    "name": "ipython",
    "version": 3
   },
   "file_extension": ".py",
   "mimetype": "text/x-python",
   "name": "python",
   "nbconvert_exporter": "python",
   "pygments_lexer": "ipython3",
   "version": "3.7.6"
  }
 },
 "nbformat": 4,
 "nbformat_minor": 1
}